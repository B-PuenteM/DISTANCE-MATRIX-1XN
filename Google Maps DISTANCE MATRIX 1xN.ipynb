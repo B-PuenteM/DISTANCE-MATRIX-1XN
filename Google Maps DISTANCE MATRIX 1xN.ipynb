{
 "cells": [
  {
   "cell_type": "markdown",
   "metadata": {},
   "source": [
    "\n",
    "# DISTANCE MATRIX 1xN\n",
    "### Developed by Bernardo Puente \n",
    "\n",
    "Last update: 10-Dec-2020"
   ]
  },
  {
   "cell_type": "markdown",
   "metadata": {},
   "source": [
    "## Context\n",
    "\n",
    "The Distance Matrix API is a service that provides travel distance and time for a matrix of origins and destinations. The API returns information based on the recommended route between start and end points, as calculated by the Google Maps API, and consists of rows containing duration and distance values for each pair.\n",
    "\n",
    "The reason for this code being 1xN is that it will compute distances between a singe 1xN origin destination table. This can be usefull to compute distances from a single origin to multiple destinations, or to obtain individual distances between desired origin destination coordinates.\n",
    "\n",
    "<img src=\" https://i.stack.imgur.com/UvBdE.jpg\" alt=\"drawing\" width=\"400\">\n",
    "\n",
    "\n",
    "For more information on GOOGLE MAPS DISTANCE MATRIX API visit: https://developers.google.com/maps/documentation/distance-matrix/intro?hl=es and https://developers.google.com/maps/documentation/distance-matrix/usage-and-billing#distance-matrix-advanced\n",
    "\n",
    "\n",
    "## Input\n",
    "This code takes as input an excel file containing geographic coordinates (lat,long) of the origins and destinations wich we want to obtain the corresponding distances.\n",
    "\n",
    "**Important:** There are two types of distance matrix queries *\"Distance Matrx Basic\"* and *\"Distance Matrix Advance\"*. A *Distance Matrix Basic* query will output only information regarding distances, in contrast a *Distance Matrix Advance* query will consider traffic information.\n",
    "\n",
    "**Important:** Each query sent to the *Distance Matrix Basic API* generates elements, where the number of origins times the number of destinations equals the number of elements. The cost for this type of query is 5.00 USD per 1000, so with the given monthly 200 USD credit you have access to 40 000 *Distance Matrix Basic* queries.\n",
    "\n",
    "**Important:** A Distance Matrix Advanced SKU is charged for a Distance Matrix API or a Maps JavaScript API’s Distance Matrix Service **that uses traffic information**. Traffic information is used when all the following apply (these are the conditions required to receive the ***duration_in_traffic*** field in the Distance Matrix response):\n",
    "\n",
    "* The ***travel mode*** parameter is ***driving***, or is not specified (***driving*** is the default travel mode).\n",
    "* The request includes a valid ***departure_time parameter***. The ***departure_time*** can be set to the current time or some time in the future. It cannot be in the past.\n",
    "\n",
    "The cost for the *Distance Matrix Advance API* is 10.00 USD per 1000 **(twice the price for the basic API!)**, so with the given monthly 200 USD credit you have access to 20 000 *Distance Matrix Advance API* queries.\n",
    "\n",
    "## Output\n",
    "This code will output a similar file as the input file, with the original origin and destination coordinates, plus additional columns containing the resulting distances when using *Distance Matrix Basic API*, and aditional duration in traffic times when using *Distance Matrix Advance API*."
   ]
  },
  {
   "cell_type": "markdown",
   "metadata": {},
   "source": [
    "# Code Start\n",
    "\n",
    "Import all libraries needed:\n",
    "\n",
    "* pandas for input and output dataframe handling\n",
    "* numpy to handle google maps API output in list and dict forms\n",
    "* googlemaps to activate Geocoding API requests\n",
    "* logging to access logger messages\n",
    "* time to measure code execution times"
   ]
  },
  {
   "cell_type": "code",
   "execution_count": 1,
   "metadata": {},
   "outputs": [],
   "source": [
    "import pandas as pd\n",
    "import numpy as np\n",
    "import googlemaps\n",
    "import logging\n",
    "import time"
   ]
  },
  {
   "cell_type": "markdown",
   "metadata": {},
   "source": [
    "Set up logger to show desired messages in console as warinings."
   ]
  },
  {
   "cell_type": "code",
   "execution_count": 2,
   "metadata": {},
   "outputs": [],
   "source": [
    "logger = logging.getLogger(\"root\")\n",
    "logger.setLevel(logging.DEBUG)\n",
    "# create console handler\n",
    "ch = logging.StreamHandler()\n",
    "ch.setLevel(logging.DEBUG)\n",
    "logger.addHandler(ch)"
   ]
  },
  {
   "cell_type": "markdown",
   "metadata": {},
   "source": [
    "Specify api key name, input/output files, and haul query hour according to Unix time."
   ]
  },
  {
   "cell_type": "code",
   "execution_count": 3,
   "metadata": {},
   "outputs": [],
   "source": [
    "api_key='YourAPI_Key_here'\n",
    "file_input='INPUT DISTANCE MATRIX 1XN.xlsx'\n",
    "file_output='OUTPUT DISTANCE MATRIX 1XN.xlsx'\n",
    "now=int(time.time()) #Uses Unix time to current hour.\n",
    "query_time=1604379600 #Use Unix time. Time set to Tue. 03 Nov 2020 5:00 am local time (Quito). Update this and use with DM Advance.\n",
    "gmaps = googlemaps.Client(client_id='DistanceMatrixExercise', key=api_key)"
   ]
  },
  {
   "cell_type": "markdown",
   "metadata": {},
   "source": [
    "Read input file and identify data structure."
   ]
  },
  {
   "cell_type": "code",
   "execution_count": 4,
   "metadata": {
    "scrolled": false
   },
   "outputs": [
    {
     "data": {
      "text/html": [
       "<div>\n",
       "<style scoped>\n",
       "    .dataframe tbody tr th:only-of-type {\n",
       "        vertical-align: middle;\n",
       "    }\n",
       "\n",
       "    .dataframe tbody tr th {\n",
       "        vertical-align: top;\n",
       "    }\n",
       "\n",
       "    .dataframe thead th {\n",
       "        text-align: right;\n",
       "    }\n",
       "</style>\n",
       "<table border=\"1\" class=\"dataframe\">\n",
       "  <thead>\n",
       "    <tr style=\"text-align: right;\">\n",
       "      <th></th>\n",
       "      <th>ORIGEN_ID</th>\n",
       "      <th>ORIG_LAT</th>\n",
       "      <th>ORIG_LONG</th>\n",
       "      <th>DEST_ID</th>\n",
       "      <th>DEST_LAT</th>\n",
       "      <th>DEST_LONG</th>\n",
       "    </tr>\n",
       "  </thead>\n",
       "  <tbody>\n",
       "    <tr>\n",
       "      <td>0</td>\n",
       "      <td>450A</td>\n",
       "      <td>-3.445084</td>\n",
       "      <td>-79.962064</td>\n",
       "      <td>452A</td>\n",
       "      <td>-3.478560</td>\n",
       "      <td>-80.236050</td>\n",
       "    </tr>\n",
       "    <tr>\n",
       "      <td>1</td>\n",
       "      <td>804A</td>\n",
       "      <td>-1.050004</td>\n",
       "      <td>-80.464027</td>\n",
       "      <td>805A</td>\n",
       "      <td>-1.054404</td>\n",
       "      <td>-80.460423</td>\n",
       "    </tr>\n",
       "    <tr>\n",
       "      <td>2</td>\n",
       "      <td>807A</td>\n",
       "      <td>-0.949732</td>\n",
       "      <td>-80.728829</td>\n",
       "      <td>841A</td>\n",
       "      <td>-0.966395</td>\n",
       "      <td>-80.703228</td>\n",
       "    </tr>\n",
       "    <tr>\n",
       "      <td>3</td>\n",
       "      <td>543A</td>\n",
       "      <td>0.968458</td>\n",
       "      <td>-79.651099</td>\n",
       "      <td>111A</td>\n",
       "      <td>-0.252573</td>\n",
       "      <td>-79.165470</td>\n",
       "    </tr>\n",
       "    <tr>\n",
       "      <td>4</td>\n",
       "      <td>165A</td>\n",
       "      <td>-0.241837</td>\n",
       "      <td>-79.171530</td>\n",
       "      <td>111A</td>\n",
       "      <td>-0.252573</td>\n",
       "      <td>-79.165470</td>\n",
       "    </tr>\n",
       "  </tbody>\n",
       "</table>\n",
       "</div>"
      ],
      "text/plain": [
       "  ORIGEN_ID  ORIG_LAT  ORIG_LONG DEST_ID  DEST_LAT  DEST_LONG\n",
       "0      450A -3.445084 -79.962064    452A -3.478560 -80.236050\n",
       "1      804A -1.050004 -80.464027    805A -1.054404 -80.460423\n",
       "2      807A -0.949732 -80.728829    841A -0.966395 -80.703228\n",
       "3      543A  0.968458 -79.651099    111A -0.252573 -79.165470\n",
       "4      165A -0.241837 -79.171530    111A -0.252573 -79.165470"
      ]
     },
     "execution_count": 4,
     "metadata": {},
     "output_type": "execute_result"
    }
   ],
   "source": [
    "Datos = pd.read_excel(file_input)\n",
    "Datos.head()"
   ]
  },
  {
   "cell_type": "markdown",
   "metadata": {},
   "source": [
    "Test the API functionality. Check test distance result and errors."
   ]
  },
  {
   "cell_type": "code",
   "execution_count": 5,
   "metadata": {
    "scrolled": false
   },
   "outputs": [
    {
     "name": "stderr",
     "output_type": "stream",
     "text": [
      "Distance Matrix Basic results for: \n",
      "ORIGEN_ID       450A\n",
      "ORIG_LAT    -3.44508\n",
      "ORIG_LONG   -79.9621\n",
      "DEST_ID         452A\n",
      "DEST_LAT    -3.47856\n",
      "DEST_LONG   -80.2361\n",
      "Name: 0, dtype: object\n",
      " are: \n",
      "{'destination_addresses': ['Tungurahua, Cantón Huaquillas, Ecuador'], 'origin_addresses': ['Cristóbal Colón 13-30, Santa Rosa, Ecuador'], 'rows': [{'elements': [{'distance': {'text': '47.0 km', 'value': 47004}, 'duration': {'text': '45 mins', 'value': 2712}, 'status': 'OK'}]}], 'status': 'OK'}\n",
      "---\n",
      "Distance Matrix Advance results for: \n",
      "ORIGEN_ID       450A\n",
      "ORIG_LAT    -3.44508\n",
      "ORIG_LONG   -79.9621\n",
      "DEST_ID         452A\n",
      "DEST_LAT    -3.47856\n",
      "DEST_LONG   -80.2361\n",
      "Name: 0, dtype: object\n",
      " are: \n",
      "{'destination_addresses': ['Tungurahua, Cantón Huaquillas, Ecuador'], 'origin_addresses': ['Cristóbal Colón 13-30, Santa Rosa, Ecuador'], 'rows': [{'elements': [{'distance': {'text': '47.0 km', 'value': 47004}, 'duration': {'text': '45 mins', 'value': 2712}, 'duration_in_traffic': {'text': '44 mins', 'value': 2650}, 'status': 'OK'}]}], 'status': 'OK'}\n",
      "Verify the obtained result before proceding.\n",
      "Time elapsed to complete execution: 0.5780091285705566 seconds.\n",
      "GOOD TO GO. Beware of ammount of API queries and cost depending on query type.\n"
     ]
    }
   ],
   "source": [
    "start_test = time.time()\n",
    "gmaps = googlemaps.Client(key=api_key)\n",
    "\n",
    "actual_register=Datos.loc[0].tolist() #Obtain the first register of the dataframe\n",
    "test_orig=(actual_register[1],actual_register[2]) #Within the actual register obtain the lat,long colums which correspond to columns [1]ORIG_LAT and [2]ORIG_LONG\n",
    "test_dest=(actual_register[4],actual_register[5]) #Similar to the previous, select lat,long of the destination with correspond to columns [4]DEST_LAT [5]DEST_LONG\n",
    "\n",
    "try:\n",
    "    test_result_basic = gmaps.distance_matrix(test_orig, test_dest) #Set Distance Matrix Basic parameters\n",
    "    test_result_advance = gmaps.distance_matrix(test_orig, test_dest, mode='driving', departure_time=now, traffic_model='best_guess') #Set Distance Matrix Advance parameters\n",
    "    end_test=(time.time() - start_test)\n",
    "    logger.warning('Distance Matrix Basic results for: \\n'+str(Datos.loc[0])+'\\n are: \\n'+str(test_result_basic))\n",
    "    logger.warning('---')\n",
    "    logger.warning('Distance Matrix Advance results for: \\n'+str(Datos.loc[0])+'\\n are: \\n'+str(test_result_advance))\n",
    "    logger.warning('Verify the obtained result before proceding.')\n",
    "    logger.warning('Time elapsed to complete execution: '+str(end_test)+' seconds.')\n",
    "    logger.warning('GOOD TO GO. Beware of ammount of API queries and cost depending on query type.')\n",
    "    \n",
    "\n",
    "except:\n",
    "    logger.warning('ERROR: VERIFY INPUT FILE, DATA FORMAT, AND API KEY')"
   ]
  },
  {
   "cell_type": "markdown",
   "metadata": {},
   "source": [
    "Run the **Distance Matrix Basic** procedure for each haul in the list. Outputs are exported to a .xslx file containing original data and distance, time, and status. If you want to run the Distance Matrix Advance procedure, specify mode, departure time and traffic model in the query where comments specify."
   ]
  },
  {
   "cell_type": "code",
   "execution_count": 6,
   "metadata": {
    "scrolled": true
   },
   "outputs": [
    {
     "name": "stderr",
     "output_type": "stream",
     "text": [
      "Distance for origin: 450A and dest:452A computed successfully\n",
      "Distance for origin: 804A and dest:805A computed successfully\n",
      "Distance for origin: 807A and dest:841A computed successfully\n",
      "Distance for origin: 543A and dest:111A computed successfully\n",
      "Distance for origin: 165A and dest:111A computed successfully\n",
      "Distance for origin: 804A and dest:805A computed successfully\n",
      "Distance for origin: 365A and dest:734A computed successfully\n",
      "Distance for origin: 334A and dest:322A computed successfully\n",
      "Distance for origin: 806A and dest:841A computed successfully\n",
      "Distance for origin: 550A and dest:552A computed successfully\n",
      "Distance for origin: 328A and dest:354A computed successfully\n",
      "Distance for origin: 348A and dest:322A computed successfully\n",
      "Distance for origin: 845A and dest:781A computed successfully\n",
      "Distance for origin: 346A and dest:328A computed successfully\n",
      "Distance for origin: 148A and dest:257A computed successfully\n",
      "Distance for origin: 354A and dest:346A computed successfully\n",
      "Distance for origin: 355A and dest:357A computed successfully\n",
      "Distance for origin: 323A and dest:325A computed successfully\n",
      "Distance for origin: 805A and dest:807A computed successfully\n",
      "Distance for origin: 546A and dest:544A computed successfully\n",
      "ALL HAULS MEASURED SUCCESSFULLY\n",
      "NUMBER OF ERRORS FOUND: 0. BEWARE TO SOLVE THEM IN THE OUTPUT FILE!\n",
      "OUTPUT FILE GENERATED\n",
      "TIME TO COMPUTE 20 HAULS: 0.05128527084986369 MINUTES, OR 3.0771162509918213 SECONDS\n",
      "PROCESS FINISHED.\n"
     ]
    }
   ],
   "source": [
    "index=Datos.index.tolist()\n",
    "results=[] #Create an empty list to save results\n",
    "start_time = time.time() #Start counting the time of the procedure\n",
    "errors=0 #Variable to keep track of errors\n",
    "for i in index: #We iterate over the index of the dataframe\n",
    "    \n",
    "    #Obtain all the information of the current register in dataframe\n",
    "    current_register=Datos.loc[i].tolist() #Transform the current register into a list to handle easier.\n",
    "    current_OrigID=current_register[0]     #Obtain the information of each column of the register.\n",
    "    current_orig_lat=current_register[1]\n",
    "    current_orig_long=current_register[2]\n",
    "    current_DestID=current_register[3]\n",
    "    current_dest_lat=current_register[4]\n",
    "    current_dest_long=current_register[5]\n",
    "    \n",
    "    \n",
    "    #Assign the current origin and destination points to tuples for Google Maps API input arguments\n",
    "    orig=(current_orig_lat,current_orig_long)\n",
    "    dest=(current_dest_lat,current_dest_long)\n",
    "    \n",
    "    #Run queries and update results\n",
    "    try:\n",
    "        current_result = gmaps.distance_matrix(orig, dest)# To run DM ADVANCE INCLUDE: , mode='driving', departure_time=now, traffic_model='best_guess') after dest.\n",
    "        result_dict={'Distance_[meters]':current_result['rows'][0]['elements'][0]['distance']['value'],\n",
    "                 'Duration_Time_[seconds]':current_result['rows'][0]['elements'][0]['duration']['value'],\n",
    "                 #'Duration_In_Traffic_[seconds]':current_result['rows'][0]['elements'][0]['duration_in_traffic']['value'], #IF YOU RUN DM ADVANCE, INCLUDE THIS ROW BY DELETING THE INITIAL #\n",
    "                 'Status':current_result['rows'][0]['elements'][0]['status']}\n",
    "                 \n",
    "    \n",
    "        results.append(result_dict)\n",
    "    \n",
    "        results[i].update({'ORIGEN_ID': current_OrigID})\n",
    "        results[i].update({'ORIG_LAT': current_orig_lat})\n",
    "        results[i].update({'ORIG_LON': current_orig_long})\n",
    "        results[i].update({'DEST_ID': current_DestID})\n",
    "        results[i].update({'DEST_LAT': current_dest_lat})\n",
    "        results[i].update({'DEST_LONG': current_dest_long})\n",
    "        logger.warning('Distance for origin: '+str(current_OrigID)+' and dest:'+str(current_DestID)+' computed successfully')\n",
    "    \n",
    "    #If a query outputs an error, it is recorded in the corresponding register\n",
    "    except:\n",
    "        result_dict={'Distance_[meters]':'ERROR',\n",
    "                 'Duration_Time_[seconds]':'ERROR',\n",
    "                 #'Duration_In_Traffic_[seconds]':'ERROR',  #IF YOU RUN DM ADVANCE, INCLUDE THIS ROW BY DELEATING THE INITIAL #\n",
    "                 'Status':'ERROR'}\n",
    "        results.append(result_dict)\n",
    "    \n",
    "        results[i].update({'ORIGEN_ID': current_OrigID})\n",
    "        results[i].update({'ORIG_LAT': current_orig_lat})\n",
    "        results[i].update({'ORIG_LON': current_orig_long})\n",
    "        results[i].update({'DEST_ID': current_DestID})\n",
    "        results[i].update({'DEST_LAT': current_dest_lat})\n",
    "        results[i].update({'DEST_LONG': current_dest_long})\n",
    "        logger.warning('ERROR IN INPUT DATA, VERIFY RESULT')\n",
    "        errors+=1\n",
    "\n",
    "logger.warning('ALL HAULS MEASURED SUCCESSFULLY')\n",
    "logger.warning('NUMBER OF ERRORS FOUND: '+str(errors)+'. BEWARE TO SOLVE THEM IN THE OUTPUT FILE!')\n",
    "pd.DataFrame(results).to_excel(file_output, encoding='utf-8')\n",
    "logger.warning('OUTPUT FILE GENERATED')\n",
    "end_time=(time.time() - start_time)\n",
    "logger.warning('TIME TO COMPUTE '+str(i+1)+' HAULS: '+str(end_time/60)+' MINUTES, OR '+str(end_time)+' SECONDS')\n",
    "logger.warning('PROCESS FINISHED.')"
   ]
  },
  {
   "cell_type": "markdown",
   "metadata": {},
   "source": [
    "## End of code."
   ]
  }
 ],
 "metadata": {
  "kernelspec": {
   "display_name": "Python 3",
   "language": "python",
   "name": "python3"
  },
  "language_info": {
   "codemirror_mode": {
    "name": "ipython",
    "version": 3
   },
   "file_extension": ".py",
   "mimetype": "text/x-python",
   "name": "python",
   "nbconvert_exporter": "python",
   "pygments_lexer": "ipython3",
   "version": "3.7.4"
  }
 },
 "nbformat": 4,
 "nbformat_minor": 2
}
